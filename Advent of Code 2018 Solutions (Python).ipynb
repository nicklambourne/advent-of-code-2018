{
 "cells": [
  {
   "cell_type": "markdown",
   "metadata": {},
   "source": [
    "# Advent of Code 2018\n",
    "## Day 1\n",
    "### Part 1"
   ]
  },
  {
   "cell_type": "code",
   "execution_count": 5,
   "metadata": {},
   "outputs": [
    {
     "name": "stdout",
     "output_type": "stream",
     "text": [
      "Challenge 1-1 Solution: 576\n"
     ]
    }
   ],
   "source": [
    "total = 0\n",
    "with open('./input/1-1.txt', 'r') as file_:\n",
    "    for line in file_.readlines():\n",
    "        total += int(line.strip())\n",
    "print(f\"Challenge 1-1 Solution: {total}\")"
   ]
  },
  {
   "cell_type": "markdown",
   "metadata": {},
   "source": [
    "### Part 2"
   ]
  },
  {
   "cell_type": "code",
   "execution_count": 20,
   "metadata": {},
   "outputs": [
    {
     "name": "stdout",
     "output_type": "stream",
     "text": [
      "Challenge 1-2 Solution: 77674\n"
     ]
    }
   ],
   "source": [
    "from typing import Dict\n",
    "\n",
    "\n",
    "def frequency_exists(frequency_dict: Dict[int, int], number: int) -> bool:\n",
    "    if number in frequency_dict.keys():\n",
    "        return True\n",
    "    else:\n",
    "        frequency_dict[number] = 1\n",
    "        return False\n",
    "    \n",
    "with open('./input/1-1.txt', 'r') as file_:\n",
    "    frequency_dict = {0: 1,}\n",
    "    lines = file_.readlines()\n",
    "    line_count = len(lines)\n",
    "    current_index = 0\n",
    "    current_value = int(lines[0])\n",
    "    while not frequency_exists(frequency_dict, current_value):\n",
    "        current_index = (current_index + 1) % line_count\n",
    "        current_value += int(lines[current_index])\n",
    "    print(f\"Challenge 1-2 Solution: {current_value}\")"
   ]
  },
  {
   "cell_type": "code",
   "execution_count": null,
   "metadata": {},
   "outputs": [],
   "source": []
  }
 ],
 "metadata": {
  "kernelspec": {
   "display_name": "Python 3",
   "language": "python",
   "name": "python3"
  },
  "language_info": {
   "codemirror_mode": {
    "name": "ipython",
    "version": 3
   },
   "file_extension": ".py",
   "mimetype": "text/x-python",
   "name": "python",
   "nbconvert_exporter": "python",
   "pygments_lexer": "ipython3",
   "version": "3.6.6"
  }
 },
 "nbformat": 4,
 "nbformat_minor": 2
}
